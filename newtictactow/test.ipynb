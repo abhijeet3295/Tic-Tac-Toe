{
 "cells": [
  {
   "cell_type": "code",
   "execution_count": 29,
   "id": "8cea30b9",
   "metadata": {},
   "outputs": [
    {
     "name": "stdout",
     "output_type": "stream",
     "text": [
      "Raw output probabilities: [[3.73282955e-06 1.28611075e-02 2.83639180e-03 1.77752659e-01\n",
      "  2.25859787e-02 6.25490129e-01 1.04089521e-01 1.17144864e-02\n",
      "  4.26659249e-02]]\n",
      "Sorted probabilities: [6.25490129e-01 1.77752659e-01 1.04089521e-01 4.26659249e-02\n",
      " 2.25859787e-02 1.28611075e-02 1.17144864e-02 2.83639180e-03\n",
      " 3.73282955e-06]\n",
      "Sorted indices: [5 3 6 8 4 1 7 2 0]\n",
      "Predicted best move index: 5\n"
     ]
    }
   ],
   "source": [
    "import numpy as np\n",
    "import tensorflow as tf\n",
    "\n",
    "# Load TFLite model and allocate tensors\n",
    "interpreter = tf.lite.Interpreter(model_path=\"tic_tac_toe_model.tflite\")\n",
    "interpreter.allocate_tensors()\n",
    "\n",
    "# Get input & output details\n",
    "input_details = interpreter.get_input_details()\n",
    "output_details = interpreter.get_output_details()\n",
    "\n",
    "# Example board state: (1=AI, -1=Opponent, 0=Empty)\n",
    "# Board indexes:  0 | 1 | 2\n",
    "#                 3 | 4 | 5\n",
    "#                 6 | 7 | 8\n",
    "board_state = np.array([[-1, 0, 1,\n",
    "                         1, 1, 0,\n",
    "                         -1, -1, -1]], dtype=np.float32)\n",
    "\n",
    "# Set the input tensor\n",
    "interpreter.set_tensor(input_details[0]['index'], board_state)\n",
    "\n",
    "# Run inference\n",
    "interpreter.invoke()\n",
    "\n",
    "# Get the prediction\n",
    "output_data = interpreter.get_tensor(output_details[0]['index'])\n",
    "print(\"Raw output probabilities:\", output_data)\n",
    "\n",
    "\n",
    "# shorting the output\n",
    "output=np.array(output_data)\n",
    "\n",
    "output=output[0]\n",
    "\n",
    "sorted_indices = np.argsort(output)[::-1]\n",
    "sorted_probs = output[sorted_indices]\n",
    "print(\"Sorted probabilities:\", sorted_probs)\n",
    "print(\"Sorted indices:\", sorted_indices)\n",
    "\n",
    "\n",
    "# Get best move index\n",
    "best_move = np.argmax(output_data[0])\n",
    "print(\"Predicted best move index:\", best_move)\n"
   ]
  }
 ],
 "metadata": {
  "kernelspec": {
   "display_name": "base",
   "language": "python",
   "name": "python3"
  },
  "language_info": {
   "codemirror_mode": {
    "name": "ipython",
    "version": 3
   },
   "file_extension": ".py",
   "mimetype": "text/x-python",
   "name": "python",
   "nbconvert_exporter": "python",
   "pygments_lexer": "ipython3",
   "version": "3.12.7"
  }
 },
 "nbformat": 4,
 "nbformat_minor": 5
}
